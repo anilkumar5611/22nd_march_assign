{
 "cells": [
  {
   "cell_type": "code",
   "execution_count": 1,
   "id": "cf910192",
   "metadata": {},
   "outputs": [
    {
     "data": {
      "text/plain": [
       "0.9895557212176928"
      ]
     },
     "execution_count": 1,
     "metadata": {},
     "output_type": "execute_result"
    }
   ],
   "source": [
    "# Q1: Pearson correlation coefficient\n",
    "import numpy as np\n",
    "from scipy.stats import pearsonr\n",
    "\n",
    "# Sample data\n",
    "study_time = [hours for hours in range(1, 11)]\n",
    "exam_scores = [65, 68, 75, 80, 85, 88, 92, 95, 98, 100]\n",
    "\n",
    "# Calculate Pearson correlation coefficient\n",
    "corr_coefficient, _ = pearsonr(study_time, exam_scores)\n",
    "corr_coefficient\n"
   ]
  },
  {
   "cell_type": "code",
   "execution_count": 2,
   "id": "edb05583",
   "metadata": {},
   "outputs": [
    {
     "data": {
      "text/plain": [
       "0.9655599406040439"
      ]
     },
     "execution_count": 2,
     "metadata": {},
     "output_type": "execute_result"
    }
   ],
   "source": [
    "# Q2: Spearman's rank correlation\n",
    "from scipy.stats import spearmanr\n",
    "\n",
    "# Sample data\n",
    "sleep_hours = [7, 5, 8, 6, 7, 9, 5, 6, 8, 7]\n",
    "job_satisfaction = [8, 5, 9, 6, 7, 9, 4, 6, 8, 7]\n",
    "\n",
    "# Calculate Spearman's rank correlation\n",
    "rho, _ = spearmanr(sleep_hours, job_satisfaction)\n",
    "rho\n"
   ]
  },
  {
   "cell_type": "code",
   "execution_count": 3,
   "id": "07acb4bc",
   "metadata": {},
   "outputs": [
    {
     "data": {
      "text/plain": [
       "(-0.8239675715236364, -0.8160123484559988)"
      ]
     },
     "execution_count": 3,
     "metadata": {},
     "output_type": "execute_result"
    }
   ],
   "source": [
    "# Q3: Pearson correlation coefficient and Spearman's rank correlation\n",
    "# Sample data\n",
    "exercise_hours = [3, 2, 5, 1, 4, 6, 2, 3, 5, 4]\n",
    "bmi = [22, 25, 20, 28, 23, 19, 26, 24, 21, 27]\n",
    "\n",
    "# Calculate Pearson correlation coefficient\n",
    "pearson_corr, _ = pearsonr(exercise_hours, bmi)\n",
    "\n",
    "# Calculate Spearman's rank correlation\n",
    "spearman_corr, _ = spearmanr(exercise_hours, bmi)\n",
    "\n",
    "pearson_corr, spearman_corr\n"
   ]
  },
  {
   "cell_type": "code",
   "execution_count": 4,
   "id": "7cba9bfe",
   "metadata": {},
   "outputs": [
    {
     "data": {
      "text/plain": [
       "-0.9511962836423468"
      ]
     },
     "execution_count": 4,
     "metadata": {},
     "output_type": "execute_result"
    }
   ],
   "source": [
    "# Q4: Pearson correlation coefficient\n",
    "# Sample data\n",
    "tv_hours = [2, 1, 3, 2, 4, 1, 3, 2, 4, 1]\n",
    "physical_activity = [30, 40, 20, 35, 15, 45, 25, 30, 18, 50]\n",
    "\n",
    "# Calculate Pearson correlation coefficient\n",
    "corr_coefficient, _ = pearsonr(tv_hours, physical_activity)\n",
    "corr_coefficient\n"
   ]
  },
  {
   "cell_type": "code",
   "execution_count": 5,
   "id": "b105ba16",
   "metadata": {},
   "outputs": [
    {
     "data": {
      "text/plain": [
       "0.9668648889563208"
      ]
     },
     "execution_count": 5,
     "metadata": {},
     "output_type": "execute_result"
    }
   ],
   "source": [
    "# Q6: Pearson correlation coefficient\n",
    "# Sample data\n",
    "sales_calls_per_day = [10, 8, 12, 7, 15, 9, 11, 14, 13, 10]\n",
    "sales_per_week = [3, 2, 4, 1, 5, 2, 3, 4, 4, 3]\n",
    "\n",
    "# Calculate Pearson correlation coefficient\n",
    "corr_coefficient, _ = pearsonr(sales_calls_per_day, sales_per_week)\n",
    "corr_coefficient\n"
   ]
  },
  {
   "cell_type": "code",
   "execution_count": null,
   "id": "6c1f8110",
   "metadata": {},
   "outputs": [],
   "source": []
  }
 ],
 "metadata": {
  "kernelspec": {
   "display_name": "Python 3 (ipykernel)",
   "language": "python",
   "name": "python3"
  },
  "language_info": {
   "codemirror_mode": {
    "name": "ipython",
    "version": 3
   },
   "file_extension": ".py",
   "mimetype": "text/x-python",
   "name": "python",
   "nbconvert_exporter": "python",
   "pygments_lexer": "ipython3",
   "version": "3.11.2"
  }
 },
 "nbformat": 4,
 "nbformat_minor": 5
}
